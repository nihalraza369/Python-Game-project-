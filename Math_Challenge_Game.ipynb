{
  "nbformat": 4,
  "nbformat_minor": 0,
  "metadata": {
    "colab": {
      "provenance": []
    },
    "kernelspec": {
      "name": "python3",
      "display_name": "Python 3"
    },
    "language_info": {
      "name": "python"
    }
  },
  "cells": [
    {
      "cell_type": "code",
      "execution_count": 1,
      "metadata": {
        "colab": {
          "base_uri": "https://localhost:8080/"
        },
        "id": "ByyWIypYZiZ5",
        "outputId": "2cf8ea39-37d3-49ee-a1b7-4cf077fd486f"
      },
      "outputs": [
        {
          "output_type": "stream",
          "name": "stdout",
          "text": [
            "🧮 Welcome to the Math Challenge Game!\n",
            "Solve the problems. Type 'exit' to quit anytime.\n",
            "----------------------------------------\n",
            "Q1: 7 - 9 = ? 2\n",
            "❌ Wrong! The correct answer was -2.\n",
            "Current Score: 0/1\n",
            "------------------------------\n",
            "Q2: 10 + 4 = ? 14\n",
            "✅ Correct!\n",
            "Current Score: 1/2\n",
            "------------------------------\n",
            "Q3: 19 + 8 = ? 27\n",
            "✅ Correct!\n",
            "Current Score: 2/3\n",
            "------------------------------\n",
            "Q4: 7 + 8 = ? 6\n",
            "❌ Wrong! The correct answer was 15.\n",
            "Current Score: 2/4\n",
            "------------------------------\n",
            "Q5: 14 * 20 = ? 220\n",
            "❌ Wrong! The correct answer was 280.\n",
            "Current Score: 2/5\n",
            "------------------------------\n",
            "Q6: 7 * 14 = ? 98\n",
            "✅ Correct!\n",
            "Current Score: 3/6\n",
            "------------------------------\n",
            "Q7: 7 + 18 = ? 25\n",
            "✅ Correct!\n",
            "Current Score: 4/7\n",
            "------------------------------\n",
            "Q8: 13 * 10 = ? 310\n",
            "❌ Wrong! The correct answer was 130.\n",
            "Current Score: 4/8\n",
            "------------------------------\n",
            "Q9: 13 * 9 = ? 330\n",
            "❌ Wrong! The correct answer was 117.\n",
            "Current Score: 4/9\n",
            "------------------------------\n",
            "Q10: 8 * 19 = ? exit\n",
            "\n",
            "🎯 Game Over!\n",
            "Your final score is 4/9\n"
          ]
        }
      ],
      "source": [
        "import random\n",
        "\n",
        "print(\"🧮 Welcome to the Math Challenge Game!\")\n",
        "print(\"Solve the problems. Type 'exit' to quit anytime.\")\n",
        "print(\"-\" * 40)\n",
        "\n",
        "score = 0\n",
        "question_count = 0\n",
        "\n",
        "while True:\n",
        "    # Random numbers and operation\n",
        "    num1 = random.randint(1, 20)\n",
        "    num2 = random.randint(1, 20)\n",
        "    operator = random.choice([\"+\", \"-\", \"*\"])\n",
        "\n",
        "    if operator == \"+\":\n",
        "        correct_answer = num1 + num2\n",
        "    elif operator == \"-\":\n",
        "        correct_answer = num1 - num2\n",
        "    else:\n",
        "        correct_answer = num1 * num2\n",
        "\n",
        "    # Show question\n",
        "    question = f\"{num1} {operator} {num2} = ?\"\n",
        "    user_input = input(f\"Q{question_count + 1}: {question} \")\n",
        "\n",
        "    if user_input.lower() == \"exit\":\n",
        "        break\n",
        "\n",
        "    if not user_input.isdigit() and not (user_input.startswith('-') and user_input[1:].isdigit()):\n",
        "        print(\"Please enter a valid number!\")\n",
        "        continue\n",
        "\n",
        "    user_answer = int(user_input)\n",
        "    question_count += 1\n",
        "\n",
        "    if user_answer == correct_answer:\n",
        "        print(\"✅ Correct!\")\n",
        "        score += 1\n",
        "    else:\n",
        "        print(f\"❌ Wrong! The correct answer was {correct_answer}.\")\n",
        "\n",
        "    print(f\"Current Score: {score}/{question_count}\")\n",
        "    print(\"-\" * 30)\n",
        "\n",
        "print(\"\\n🎯 Game Over!\")\n",
        "print(f\"Your final score is {score}/{question_count}\")\n"
      ]
    }
  ]
}
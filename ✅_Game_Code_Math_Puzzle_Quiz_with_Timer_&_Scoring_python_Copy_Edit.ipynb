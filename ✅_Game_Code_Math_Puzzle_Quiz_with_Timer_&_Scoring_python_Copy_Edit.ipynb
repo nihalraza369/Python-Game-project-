{
  "nbformat": 4,
  "nbformat_minor": 0,
  "metadata": {
    "colab": {
      "provenance": []
    },
    "kernelspec": {
      "name": "python3",
      "display_name": "Python 3"
    },
    "language_info": {
      "name": "python"
    }
  },
  "cells": [
    {
      "cell_type": "code",
      "execution_count": 1,
      "metadata": {
        "colab": {
          "base_uri": "https://localhost:8080/"
        },
        "id": "vCCF2prS6Hut",
        "outputId": "e71d9811-cea7-4cd5-e7ca-d68a6581a361"
      },
      "outputs": [
        {
          "output_type": "stream",
          "name": "stdout",
          "text": [
            "🧠 Welcome to the Math Puzzle Challenge!\n",
            "You have 10 seconds to answer each question.\n",
            "Correct = +1 point | Wrong/Timeout = -1 point\n",
            "Type 'exit' anytime to quit.\n",
            "--------------------------------------------------\n",
            "\n",
            "Solve: 19 * 6\n",
            "Your answer: 664\n",
            "⏱️ Time's up! You took 74.63 seconds.\n",
            "\n",
            "Solve: 5 + 4\n",
            "Your answer: 5\n",
            "⏱️ Time's up! You took 10.04 seconds.\n",
            "\n",
            "Solve: 14 - 19\n",
            "Your answer: 5\n",
            "⏱️ Time's up! You took 38.68 seconds.\n",
            "\n",
            "Solve: 1 - 2\n",
            "Your answer: 1\n",
            "❌ Wrong! Correct answer was -1\n",
            "\n",
            "Solve: 8 * 18\n",
            "Your answer: 45\n",
            "⏱️ Time's up! You took 35.14 seconds.\n",
            "\n",
            "Solve: 20 + 1\n",
            "Your answer: 21\n",
            "⏱️ Time's up! You took 13.78 seconds.\n",
            "\n",
            "Solve: 20 * 13\n",
            "Your answer: 212\n",
            "❌ Wrong! Correct answer was 260\n",
            "\n",
            "Solve: 11 * 20\n",
            "Your answer: exit\n",
            "\n",
            "📊 Game Over!\n",
            "🧠 Total Questions: 7\n",
            "🎯 Final Score: -7\n"
          ]
        }
      ],
      "source": [
        "import random\n",
        "import time\n",
        "\n",
        "print(\"🧠 Welcome to the Math Puzzle Challenge!\")\n",
        "print(\"You have 10 seconds to answer each question.\")\n",
        "print(\"Correct = +1 point | Wrong/Timeout = -1 point\")\n",
        "print(\"Type 'exit' anytime to quit.\")\n",
        "print(\"-\" * 50)\n",
        "\n",
        "score = 0\n",
        "total_questions = 0\n",
        "\n",
        "while True:\n",
        "    num1 = random.randint(1, 20)\n",
        "    num2 = random.randint(1, 20)\n",
        "    operator = random.choice(['+', '-', '*'])\n",
        "\n",
        "    if operator == '+':\n",
        "        correct_answer = num1 + num2\n",
        "    elif operator == '-':\n",
        "        correct_answer = num1 - num2\n",
        "    else:\n",
        "        correct_answer = num1 * num2\n",
        "\n",
        "    question = f\"{num1} {operator} {num2}\"\n",
        "    print(f\"\\nSolve: {question}\")\n",
        "    start = time.time()\n",
        "\n",
        "    try:\n",
        "        user_input = input(\"Your answer: \")\n",
        "\n",
        "        if user_input.lower() == 'exit':\n",
        "            break\n",
        "\n",
        "        end = time.time()\n",
        "        time_taken = round(end - start, 2)\n",
        "\n",
        "        if time_taken > 10:\n",
        "            print(f\"⏱️ Time's up! You took {time_taken} seconds.\")\n",
        "            score -= 1\n",
        "        elif int(user_input) == correct_answer:\n",
        "            print(\"✅ Correct!\")\n",
        "            score += 1\n",
        "        else:\n",
        "            print(f\"❌ Wrong! Correct answer was {correct_answer}\")\n",
        "            score -= 1\n",
        "\n",
        "        total_questions += 1\n",
        "\n",
        "    except:\n",
        "        print(\"⚠️ Invalid input! -1 point.\")\n",
        "        score -= 1\n",
        "        total_questions += 1\n",
        "\n",
        "print(\"\\n📊 Game Over!\")\n",
        "print(f\"🧠 Total Questions: {total_questions}\")\n",
        "print(f\"🎯 Final Score: {score}\")\n"
      ]
    }
  ]
}
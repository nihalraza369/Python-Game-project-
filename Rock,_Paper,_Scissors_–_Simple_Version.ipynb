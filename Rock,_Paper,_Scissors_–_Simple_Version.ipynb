{
  "nbformat": 4,
  "nbformat_minor": 0,
  "metadata": {
    "colab": {
      "provenance": [],
      "gpuType": "T4"
    },
    "kernelspec": {
      "name": "python3",
      "display_name": "Python 3"
    },
    "language_info": {
      "name": "python"
    },
    "accelerator": "GPU"
  },
  "cells": [
    {
      "cell_type": "code",
      "execution_count": 3,
      "metadata": {
        "colab": {
          "base_uri": "https://localhost:8080/"
        },
        "id": "r2qUH-FnAvVe",
        "outputId": "e423b4fa-ec98-4358-9b15-0520e8164bdb"
      },
      "outputs": [
        {
          "output_type": "stream",
          "name": "stdout",
          "text": [
            "✊ Rock, 📄 Paper, ✂️ Scissors Game\n",
            "Type 'rock', 'paper', or 'scissors' to play. Type 'exit' to quit.\n",
            "Your move: paper\n",
            "Computer chose: rock\n",
            "🎉 You win!\n",
            "------------------------------\n",
            "Your move: yes\n",
            "Invalid choice. Please choose rock, paper, or scissors.\n",
            "Your move: paper\n",
            "Computer chose: paper\n",
            "😐 It's a tie!\n",
            "------------------------------\n",
            "Your move: rock\n",
            "Computer chose: paper\n",
            "💻 Computer wins!\n",
            "------------------------------\n",
            "Your move: 9\n",
            "Invalid choice. Please choose rock, paper, or scissors.\n",
            "Your move: scissors\n",
            "Computer chose: scissors\n",
            "😐 It's a tie!\n",
            "------------------------------\n",
            "Your move: njk\n",
            "Invalid choice. Please choose rock, paper, or scissors.\n",
            "Your move: exit\n",
            "👋 Thanks for playing!\n"
          ]
        }
      ],
      "source": [
        "import random\n",
        "\n",
        "print(\"✊ Rock, 📄 Paper, ✂️ Scissors Game\")\n",
        "print(\"Type 'rock', 'paper', or 'scissors' to play. Type 'exit' to quit.\")\n",
        "\n",
        "choices = [\"rock\", \"paper\", \"scissors\"]\n",
        "\n",
        "while True:\n",
        "    user_choice = input(\"Your move: \").lower()\n",
        "\n",
        "    if user_choice == \"exit\":\n",
        "        print(\"👋 Thanks for playing!\")\n",
        "        break\n",
        "\n",
        "    if user_choice not in choices:\n",
        "        print(\"Invalid choice. Please choose rock, paper, or scissors.\")\n",
        "        continue\n",
        "\n",
        "    computer_choice = random.choice(choices)\n",
        "    print(f\"Computer chose: {computer_choice}\")\n",
        "\n",
        "    if user_choice == computer_choice:\n",
        "        print(\"😐 It's a tie!\")\n",
        "    elif (\n",
        "        (user_choice == \"rock\" and computer_choice == \"scissors\") or\n",
        "        (user_choice == \"paper\" and computer_choice == \"rock\") or\n",
        "        (user_choice == \"scissors\" and computer_choice == \"paper\")\n",
        "    ):\n",
        "        print(\"🎉 You win!\")\n",
        "    else:\n",
        "        print(\"💻 Computer wins!\")\n",
        "\n",
        "    print(\"-\" * 30)\n"
      ]
    }
  ]
}
{
  "nbformat": 4,
  "nbformat_minor": 0,
  "metadata": {
    "colab": {
      "provenance": []
    },
    "kernelspec": {
      "name": "python3",
      "display_name": "Python 3"
    },
    "language_info": {
      "name": "python"
    }
  },
  "cells": [
    {
      "cell_type": "code",
      "source": [],
      "metadata": {
        "id": "jSXhjkpZb_P3"
      },
      "execution_count": null,
      "outputs": []
    },
    {
      "cell_type": "code",
      "source": [
        "a"
      ],
      "metadata": {
        "colab": {
          "base_uri": "https://localhost:8080/",
          "height": 141
        },
        "id": "lZQ1bPVtcBlg",
        "outputId": "2ed3d7de-9f06-44df-f5c1-8286613db816"
      },
      "execution_count": 2,
      "outputs": [
        {
          "output_type": "error",
          "ename": "NameError",
          "evalue": "name 'a' is not defined",
          "traceback": [
            "\u001b[0;31m---------------------------------------------------------------------------\u001b[0m",
            "\u001b[0;31mNameError\u001b[0m                                 Traceback (most recent call last)",
            "\u001b[0;32m<ipython-input-2-3f786850e387>\u001b[0m in \u001b[0;36m<cell line: 0>\u001b[0;34m()\u001b[0m\n\u001b[0;32m----> 1\u001b[0;31m \u001b[0ma\u001b[0m\u001b[0;34m\u001b[0m\u001b[0;34m\u001b[0m\u001b[0m\n\u001b[0m",
            "\u001b[0;31mNameError\u001b[0m: name 'a' is not defined"
          ]
        }
      ]
    },
    {
      "cell_type": "code",
      "execution_count": 3,
      "metadata": {
        "colab": {
          "base_uri": "https://localhost:8080/"
        },
        "id": "oG-XQErVbc3n",
        "outputId": "765f835b-ca16-4486-eaf0-1f08da194064"
      },
      "outputs": [
        {
          "output_type": "stream",
          "name": "stdout",
          "text": [
            "🎮 Welcome to Hangman!\n",
            "Guess the word one letter at a time. You have limited chances.\n",
            "----------------------------------------\n",
            "\n",
            "Word: _ _ _ _ _ _ _ _ _\n",
            "Guess a letter: c\n",
            "✅ Correct!\n",
            "\n",
            "Word: c _ _ _ _ _ _ _ _\n",
            "Guess a letter: h\n",
            "✅ Correct!\n",
            "\n",
            "Word: c h _ _ _ _ _ _ _\n",
            "Guess a letter: a\n",
            "✅ Correct!\n",
            "\n",
            "Word: c h a _ _ _ _ _ _\n",
            "Guess a letter: l\n",
            "✅ Correct!\n",
            "\n",
            "Word: c h a l l _ _ _ _\n",
            "Guess a letter: e\n",
            "✅ Correct!\n",
            "\n",
            "Word: c h a l l e _ _ e\n",
            "Guess a letter: n\n",
            "✅ Correct!\n",
            "\n",
            "Word: c h a l l e n _ e\n",
            "Guess a letter: g\n",
            "✅ Correct!\n",
            "\n",
            "Word: c h a l l e n g e\n",
            "🎉 You guessed the word correctly!\n"
          ]
        }
      ],
      "source": [
        "import random\n",
        "\n",
        "print(\"🎮 Welcome to Hangman!\")\n",
        "print(\"Guess the word one letter at a time. You have limited chances.\")\n",
        "print(\"-\" * 40)\n",
        "\n",
        "# Step 1: Word list and select random word\n",
        "words = [\"python\", \"developer\", \"hangman\", \"program\", \"challenge\"]\n",
        "word = random.choice(words)\n",
        "word_letters = list(word)\n",
        "\n",
        "guessed_letters = []\n",
        "tries = 6\n",
        "\n",
        "# Step 2: Main game loop\n",
        "while tries > 0:\n",
        "    display_word = \"\"\n",
        "    for letter in word_letters:\n",
        "        if letter in guessed_letters:\n",
        "            display_word += letter + \" \"\n",
        "        else:\n",
        "            display_word += \"_ \"\n",
        "\n",
        "    print(\"\\nWord:\", display_word.strip())\n",
        "\n",
        "    if all(letter in guessed_letters for letter in word_letters):\n",
        "        print(\"🎉 You guessed the word correctly!\")\n",
        "        break\n",
        "\n",
        "    guess = input(\"Guess a letter: \").lower()\n",
        "\n",
        "    if len(guess) != 1 or not guess.isalpha():\n",
        "        print(\"Please enter a single valid letter.\")\n",
        "        continue\n",
        "\n",
        "    if guess in guessed_letters:\n",
        "        print(\"⚠️ You already guessed that letter.\")\n",
        "        continue\n",
        "\n",
        "    guessed_letters.append(guess)\n",
        "\n",
        "    if guess in word_letters:\n",
        "        print(\"✅ Correct!\")\n",
        "    else:\n",
        "        tries -= 1\n",
        "        print(f\"❌ Incorrect! Tries left: {tries}\")\n",
        "\n",
        "# Step 3: Game over\n",
        "if tries == 0:\n",
        "    print(\"\\n💀 Game Over! The word was:\", word)\n"
      ]
    }
  ]
}
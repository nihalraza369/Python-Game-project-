{
  "nbformat": 4,
  "nbformat_minor": 0,
  "metadata": {
    "colab": {
      "provenance": [],
      "gpuType": "T4"
    },
    "kernelspec": {
      "name": "python3",
      "display_name": "Python 3"
    },
    "language_info": {
      "name": "python"
    },
    "accelerator": "GPU"
  },
  "cells": [
    {
      "cell_type": "code",
      "source": [],
      "metadata": {
        "id": "VquzjYBnoeky"
      },
      "execution_count": null,
      "outputs": []
    },
    {
      "cell_type": "code",
      "execution_count": 1,
      "metadata": {
        "colab": {
          "base_uri": "https://localhost:8080/"
        },
        "id": "Ju55DZK2jfu3",
        "outputId": "4e58571b-cd5b-4bc6-d770-8dfa8d98d609"
      },
      "outputs": [
        {
          "output_type": "stream",
          "name": "stdout",
          "text": [
            "🔀 Welcome to the Word Scramble Game!\n",
            "Unscramble the word. Type 'exit' to quit.\n",
            "----------------------------------------\n",
            "\n",
            "Scrambled word: epmtocru\n",
            "Your guess: 3\n",
            "❌ Wrong! The correct word was: computer\n",
            "\n",
            "Scrambled word: anagnmh\n",
            "Your guess: hangman\n",
            "✅ Correct!\n",
            "\n",
            "Scrambled word: ynothp\n",
            "Your guess: python\n",
            "✅ Correct!\n",
            "\n",
            "Scrambled word: ogahirmlt\n",
            "Your guess: algorithm\n",
            "✅ Correct!\n",
            "\n",
            "Scrambled word: trmeucpo\n",
            "Your guess: computer\n",
            "✅ Correct!\n",
            "\n",
            "Scrambled word: hmilogart\n",
            "Your guess: algorithm\n",
            "✅ Correct!\n",
            "\n",
            "Scrambled word: ltgmhiroa\n",
            "Your guess: algorithm\n",
            "✅ Correct!\n",
            "\n",
            "Scrambled word: nnahgam\n",
            "Your guess: hangman\n",
            "✅ Correct!\n",
            "\n",
            "Scrambled word: angmnah\n",
            "Your guess: hangman\n",
            "✅ Correct!\n",
            "\n",
            "Scrambled word: nnmgaah\n",
            "Your guess: hangman\n",
            "✅ Correct!\n",
            "\n",
            "Scrambled word: dleeorepv\n",
            "Your guess: developer\n",
            "✅ Correct!\n",
            "\n",
            "Scrambled word: nhoypt\n",
            "Your guess: python\n",
            "✅ Correct!\n",
            "\n",
            "Scrambled word: alhlenegc\n",
            "Your guess: challenge\n",
            "✅ Correct!\n",
            "\n",
            "Scrambled word: eldeorevp\n",
            "Your guess: developer\n",
            "✅ Correct!\n",
            "\n",
            "Scrambled word: evpedeolr\n",
            "Your guess: exit\n",
            "\n",
            "🎯 Game Over!\n",
            "Your final score is: 13\n"
          ]
        }
      ],
      "source": [
        "import random\n",
        "\n",
        "print(\"🔀 Welcome to the Word Scramble Game!\")\n",
        "print(\"Unscramble the word. Type 'exit' to quit.\")\n",
        "print(\"-\" * 40)\n",
        "\n",
        "words = [\"python\", \"developer\", \"hangman\", \"keyboard\", \"computer\", \"challenge\", \"algorithm\"]\n",
        "\n",
        "score = 0\n",
        "while True:\n",
        "    original_word = random.choice(words)\n",
        "    scrambled_word = ''.join(random.sample(original_word, len(original_word)))\n",
        "\n",
        "    print(\"\\nScrambled word:\", scrambled_word)\n",
        "    user_guess = input(\"Your guess: \").lower()\n",
        "\n",
        "    if user_guess == \"exit\":\n",
        "        break\n",
        "\n",
        "    if user_guess == original_word:\n",
        "        print(\"✅ Correct!\")\n",
        "        score += 1\n",
        "    else:\n",
        "        print(f\"❌ Wrong! The correct word was: {original_word}\")\n",
        "\n",
        "print(\"\\n🎯 Game Over!\")\n",
        "print(f\"Your final score is: {score}\")\n"
      ]
    }
  ]
}
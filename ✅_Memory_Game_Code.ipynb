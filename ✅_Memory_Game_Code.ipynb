{
  "nbformat": 4,
  "nbformat_minor": 0,
  "metadata": {
    "colab": {
      "provenance": [],
      "gpuType": "T4"
    },
    "kernelspec": {
      "name": "python3",
      "display_name": "Python 3"
    },
    "language_info": {
      "name": "python"
    },
    "accelerator": "GPU"
  },
  "cells": [
    {
      "cell_type": "code",
      "execution_count": 1,
      "metadata": {
        "id": "WEf5Fdwas4Mj",
        "colab": {
          "base_uri": "https://localhost:8080/"
        },
        "outputId": "cb00d82e-79c1-4a4e-cca1-b132a6d6b045"
      },
      "outputs": [
        {
          "output_type": "stream",
          "name": "stdout",
          "text": [
            "🧠 Welcome to the Memory Game!\n",
            "Try to memorize the number sequence. It gets harder each round.\n",
            "Type 'exit' to quit at any time.\n",
            "--------------------------------------------------\n",
            "\n",
            "Level 1: Memorize this sequence:\n",
            "1\n",
            "\u001bcEnter the sequence: 5\n",
            "❌ Wrong! The correct sequence was: 1\n",
            "\n",
            "🎯 Game Over! Your score: 0\n"
          ]
        }
      ],
      "source": [
        "import random\n",
        "import time\n",
        "\n",
        "print(\"🧠 Welcome to the Memory Game!\")\n",
        "print(\"Try to memorize the number sequence. It gets harder each round.\")\n",
        "print(\"Type 'exit' to quit at any time.\")\n",
        "print(\"-\" * 50)\n",
        "\n",
        "level = 1\n",
        "score = 0\n",
        "\n",
        "while True:\n",
        "    sequence = [str(random.randint(0, 9)) for _ in range(level)]\n",
        "    print(f\"\\nLevel {level}: Memorize this sequence:\")\n",
        "\n",
        "    print(\" \".join(sequence))\n",
        "    time.sleep(2 + level * 0.5)  # Show sequence time\n",
        "    print(\"\\033c\", end=\"\")  # Clear screen (Colab me itna nahi chalega, ignore karo)\n",
        "\n",
        "    user_input = input(\"Enter the sequence: \").strip()\n",
        "\n",
        "    if user_input.lower() == \"exit\":\n",
        "        break\n",
        "\n",
        "    if user_input.replace(\" \", \"\") == \"\".join(sequence):\n",
        "        print(\"✅ Correct!\")\n",
        "        level += 1\n",
        "        score += 1\n",
        "    else:\n",
        "        print(f\"❌ Wrong! The correct sequence was: {' '.join(sequence)}\")\n",
        "        break\n",
        "\n",
        "print(f\"\\n🎯 Game Over! Your score: {score}\")\n"
      ]
    }
  ]
}
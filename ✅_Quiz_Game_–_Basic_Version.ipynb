{
  "nbformat": 4,
  "nbformat_minor": 0,
  "metadata": {
    "colab": {
      "provenance": []
    },
    "kernelspec": {
      "name": "python3",
      "display_name": "Python 3"
    },
    "language_info": {
      "name": "python"
    }
  },
  "cells": [
    {
      "cell_type": "code",
      "execution_count": 2,
      "metadata": {
        "colab": {
          "base_uri": "https://localhost:8080/"
        },
        "id": "Ic83hdTzFkFO",
        "outputId": "bbc6404a-239a-44f8-a84d-ef08622f32ac"
      },
      "outputs": [
        {
          "output_type": "stream",
          "name": "stdout",
          "text": [
            "🧠 Welcome to the Quiz Game!\n",
            "Answer the following questions by typing the correct option (A, B, C, or D).\n",
            "----------------------------------------\n",
            "\n",
            "What is the capital of France?\n",
            "A. Paris\n",
            "B. London\n",
            "C. Rome\n",
            "D. Berlin\n",
            "Your answer (A/B/C/D): Paris\n",
            "❌ Wrong! The correct answer is A.\n",
            "\n",
            "Which language is used for web development?\n",
            "A. Python\n",
            "B. Java\n",
            "C. HTML\n",
            "D. C++\n",
            "Your answer (A/B/C/D): c\n",
            "✅ Correct!\n",
            "\n",
            "Which planet is known as the Red Planet?\n",
            "A. Earth\n",
            "B. Mars\n",
            "C. Jupiter\n",
            "D. Venus\n",
            "Your answer (A/B/C/D): d\n",
            "❌ Wrong! The correct answer is B.\n",
            "\n",
            "🎯 Quiz Completed!\n",
            "Your final score is: 1/3\n"
          ]
        }
      ],
      "source": [
        "print(\"🧠 Welcome to the Quiz Game!\")\n",
        "print(\"Answer the following questions by typing the correct option (A, B, C, or D).\")\n",
        "print(\"-\" * 40)\n",
        "\n",
        "# Step 1: Define quiz questions and answers\n",
        "quiz = [\n",
        "    {\n",
        "        \"question\": \"What is the capital of France?\",\n",
        "        \"options\": [\"A. Paris\", \"B. London\", \"C. Rome\", \"D. Berlin\"],\n",
        "        \"answer\": \"A\"\n",
        "    },\n",
        "    {\n",
        "        \"question\": \"Which language is used for web development?\",\n",
        "        \"options\": [\"A. Python\", \"B. Java\", \"C. HTML\", \"D. C++\"],\n",
        "        \"answer\": \"C\"\n",
        "    },\n",
        "    {\n",
        "        \"question\": \"Which planet is known as the Red Planet?\",\n",
        "        \"options\": [\"A. Earth\", \"B. Mars\", \"C. Jupiter\", \"D. Venus\"],\n",
        "        \"answer\": \"B\"\n",
        "    },\n",
        "]\n",
        "\n",
        "score = 0\n",
        "\n",
        "# Step 2: Loop through each question\n",
        "for q in quiz:\n",
        "    print(\"\\n\" + q[\"question\"])\n",
        "    for option in q[\"options\"]:\n",
        "        print(option)\n",
        "\n",
        "    user_answer = input(\"Your answer (A/B/C/D): \").upper()\n",
        "\n",
        "    if user_answer == q[\"answer\"]:\n",
        "        print(\"✅ Correct!\")\n",
        "        score += 1\n",
        "    else:\n",
        "        print(f\"❌ Wrong! The correct answer is {q['answer']}.\")\n",
        "\n",
        "# Step 3: Show final score\n",
        "print(\"\\n🎯 Quiz Completed!\")\n",
        "print(f\"Your final score is: {score}/{len(quiz)}\")\n"
      ]
    }
  ]
}
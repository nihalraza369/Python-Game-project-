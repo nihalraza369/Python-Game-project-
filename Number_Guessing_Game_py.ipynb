{
  "nbformat": 4,
  "nbformat_minor": 0,
  "metadata": {
    "colab": {
      "provenance": [],
      "gpuType": "T4"
    },
    "kernelspec": {
      "name": "python3",
      "display_name": "Python 3"
    },
    "language_info": {
      "name": "python"
    },
    "accelerator": "GPU"
  },
  "cells": [
    {
      "cell_type": "code",
      "execution_count": 2,
      "metadata": {
        "colab": {
          "base_uri": "https://localhost:8080/"
        },
        "id": "i9XA7XPc_W02",
        "outputId": "6929bbf7-7eee-4c9d-abeb-affc1f392fd5"
      },
      "outputs": [
        {
          "output_type": "stream",
          "name": "stdout",
          "text": [
            "🎯 Welcome to the Number Guessing Game!\n",
            "I'm thinking of a number between 1 and 100.\n",
            "Guess the number: njf\n",
            "Please enter a valid number!\n",
            "Guess the number: 5\n",
            "Too high! Try again.\n",
            "Guess the number: 4\n",
            "Too high! Try again.\n",
            "Guess the number: 3\n",
            "Too high! Try again.\n",
            "Guess the number: 3\n",
            "Too high! Try again.\n",
            "Guess the number: 1\n",
            "🎉 Congratulations! You guessed the number in 5 attempts.\n"
          ]
        }
      ],
      "source": [
        "import random\n",
        "\n",
        "print(\"🎯 Welcome to the Number Guessing Game!\")\n",
        "print(\"I'm thinking of a number between 1 and 100.\")\n",
        "\n",
        "# Step 1: Generate a random number\n",
        "secret_number = random.randint(1, 100)\n",
        "attempts = 0\n",
        "\n",
        "while True:\n",
        "    # Step 2: Take user input\n",
        "    guess = input(\"Guess the number: \")\n",
        "\n",
        "    # Step 3: Validate input\n",
        "    if not guess.isdigit():\n",
        "        print(\"Please enter a valid number!\")\n",
        "        continue\n",
        "\n",
        "    guess = int(guess)\n",
        "    attempts += 1\n",
        "\n",
        "    # Step 4: Compare guess\n",
        "    if guess < secret_number:\n",
        "        print(\"Too low! Try again.\")\n",
        "    elif guess > secret_number:\n",
        "        print(\"Too high! Try again.\")\n",
        "    else:\n",
        "        print(f\"🎉 Congratulations! You guessed the number in {attempts} attempts.\")\n",
        "        break\n"
      ]
    }
  ]
}